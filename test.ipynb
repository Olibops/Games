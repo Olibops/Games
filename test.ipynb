{
 "cells": [
  {
   "cell_type": "code",
   "execution_count": 14,
   "metadata": {},
   "outputs": [
    {
     "name": "stdout",
     "output_type": "stream",
     "text": [
      "[['O', 0, 0], [0, 0, 0], [0, 0, 0]]\n",
      "[['O', 'X', 0], [0, 0, 0], [0, 0, 0]]\n",
      "[['O', 'X', 'O'], [0, 0, 0], [0, 0, 0]]\n",
      "[['O', 'X', 'O'], ['X', 0, 0], [0, 0, 0]]\n",
      "[['O', 'X', 'O'], ['X', 'O', 0], [0, 0, 0]]\n",
      "[['O', 'X', 'O'], ['X', 'O', 'X'], [0, 0, 0]]\n",
      "[['O', 'X', 'O'], ['X', 'O', 'X'], ['O', 0, 0]]\n",
      "0 has already won\n",
      "[['O', 'X', 'O'], ['X', 'O', 'X'], ['O', 0, 0]]\n",
      "0 has already won\n",
      "[['O', 'X', 'O'], ['X', 'O', 'X'], ['O', 0, 0]]\n",
      "0 has already won\n",
      "[['O', 'X', 'O'], ['X', 'O', 'X'], ['O', 0, 0]]\n"
     ]
    }
   ],
   "source": [
    "import TicTacToe\n",
    "\n",
    "from TicTacToe import Game\n",
    "\n",
    "X=TicTacToe.new_game()\n",
    "\n",
    "for i in range(10):\n",
    "    X=X.add_move(i)\n",
    "    print(X.game)\n",
    "\n",
    "\n",
    "\n",
    "\n"
   ]
  }
 ],
 "metadata": {
  "interpreter": {
   "hash": "40e2eb60aa1a11f2fe87c70e9a895dc0d64f6821c8fd8cbe344969fe515db466"
  },
  "kernelspec": {
   "display_name": "Python 3.9.5 ('base')",
   "language": "python",
   "name": "python3"
  },
  "language_info": {
   "codemirror_mode": {
    "name": "ipython",
    "version": 3
   },
   "file_extension": ".py",
   "mimetype": "text/x-python",
   "name": "python",
   "nbconvert_exporter": "python",
   "pygments_lexer": "ipython3",
   "version": "3.9.5"
  },
  "orig_nbformat": 4
 },
 "nbformat": 4,
 "nbformat_minor": 2
}
