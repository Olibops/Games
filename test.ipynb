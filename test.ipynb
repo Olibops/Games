{
 "cells": [
  {
   "cell_type": "code",
   "execution_count": 7,
   "metadata": {},
   "outputs": [
    {
     "name": "stdout",
     "output_type": "stream",
     "text": [
      "O has won\n",
      "0 has already won\n"
     ]
    },
    {
     "data": {
      "text/plain": [
       "1"
      ]
     },
     "execution_count": 7,
     "metadata": {},
     "output_type": "execute_result"
    }
   ],
   "source": [
    "import TicTacToe\n",
    "from TicTacToe import Game\n",
    "\n",
    "\n",
    "\n",
    "def game_check(List=[0,1,2,3,4,5,6,7,8],show_board = \"Yes\"):\n",
    "\n",
    "    X=TicTacToe.new_game()\n",
    "    for i in range(8):\n",
    "        X.add_move(List[i],show_board)\n",
    "    Y=TicTacToe.win_check(X.game)\n",
    "    if Y != \"O\" and Y !=\"X\":\n",
    "        Y=0\n",
    "    if Y == \"O\":\n",
    "        Y=1\n",
    "    else:\n",
    "        Y=-1\n",
    "    return Y\n",
    "    \n",
    "My_List=[0,1,2,3,4,5,6,7,8]      \n",
    "\n",
    "game_check(My_List,\"No\")\n",
    "\n"
   ]
  }
 ],
 "metadata": {
  "interpreter": {
   "hash": "40e2eb60aa1a11f2fe87c70e9a895dc0d64f6821c8fd8cbe344969fe515db466"
  },
  "kernelspec": {
   "display_name": "Python 3.9.5 ('base')",
   "language": "python",
   "name": "python3"
  },
  "language_info": {
   "codemirror_mode": {
    "name": "ipython",
    "version": 3
   },
   "file_extension": ".py",
   "mimetype": "text/x-python",
   "name": "python",
   "nbconvert_exporter": "python",
   "pygments_lexer": "ipython3",
   "version": "3.9.5"
  },
  "orig_nbformat": 4
 },
 "nbformat": 4,
 "nbformat_minor": 2
}
